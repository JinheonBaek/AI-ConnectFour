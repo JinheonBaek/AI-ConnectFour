{
 "cells": [
  {
   "cell_type": "markdown",
   "metadata": {},
   "source": [
    "## Import Module"
   ]
  },
  {
   "cell_type": "code",
   "execution_count": 1,
   "metadata": {
    "collapsed": true
   },
   "outputs": [],
   "source": [
    "import pandas as pd\n",
    "import numpy as np\n",
    "from sklearn.neural_network import MLPClassifier\n",
    "from sklearn.metrics import accuracy_score, precision_score, recall_score, f1_score\n",
    "from sklearn import svm\n",
    "import pickle"
   ]
  },
  {
   "cell_type": "markdown",
   "metadata": {},
   "source": [
    "## Load Dataset"
   ]
  },
  {
   "cell_type": "code",
   "execution_count": 2,
   "metadata": {
    "collapsed": true
   },
   "outputs": [],
   "source": [
    "data = pd.read_csv(r'Data/connect-4.csv', header = None)"
   ]
  },
  {
   "cell_type": "code",
   "execution_count": 3,
   "metadata": {},
   "outputs": [
    {
     "data": {
      "text/plain": [
       "pandas.core.frame.DataFrame"
      ]
     },
     "execution_count": 3,
     "metadata": {},
     "output_type": "execute_result"
    }
   ],
   "source": [
    "type(data)"
   ]
  },
  {
   "cell_type": "code",
   "execution_count": 4,
   "metadata": {
    "scrolled": true
   },
   "outputs": [
    {
     "data": {
      "text/html": [
       "<div>\n",
       "<style>\n",
       "    .dataframe thead tr:only-child th {\n",
       "        text-align: right;\n",
       "    }\n",
       "\n",
       "    .dataframe thead th {\n",
       "        text-align: left;\n",
       "    }\n",
       "\n",
       "    .dataframe tbody tr th {\n",
       "        vertical-align: top;\n",
       "    }\n",
       "</style>\n",
       "<table border=\"1\" class=\"dataframe\">\n",
       "  <thead>\n",
       "    <tr style=\"text-align: right;\">\n",
       "      <th></th>\n",
       "      <th>0</th>\n",
       "      <th>1</th>\n",
       "      <th>2</th>\n",
       "      <th>3</th>\n",
       "      <th>4</th>\n",
       "      <th>5</th>\n",
       "      <th>6</th>\n",
       "      <th>7</th>\n",
       "      <th>8</th>\n",
       "      <th>9</th>\n",
       "      <th>...</th>\n",
       "      <th>33</th>\n",
       "      <th>34</th>\n",
       "      <th>35</th>\n",
       "      <th>36</th>\n",
       "      <th>37</th>\n",
       "      <th>38</th>\n",
       "      <th>39</th>\n",
       "      <th>40</th>\n",
       "      <th>41</th>\n",
       "      <th>42</th>\n",
       "    </tr>\n",
       "  </thead>\n",
       "  <tbody>\n",
       "    <tr>\n",
       "      <th>0</th>\n",
       "      <td>b</td>\n",
       "      <td>b</td>\n",
       "      <td>b</td>\n",
       "      <td>b</td>\n",
       "      <td>b</td>\n",
       "      <td>b</td>\n",
       "      <td>b</td>\n",
       "      <td>b</td>\n",
       "      <td>b</td>\n",
       "      <td>b</td>\n",
       "      <td>...</td>\n",
       "      <td>b</td>\n",
       "      <td>b</td>\n",
       "      <td>b</td>\n",
       "      <td>b</td>\n",
       "      <td>b</td>\n",
       "      <td>b</td>\n",
       "      <td>b</td>\n",
       "      <td>b</td>\n",
       "      <td>b</td>\n",
       "      <td>win</td>\n",
       "    </tr>\n",
       "    <tr>\n",
       "      <th>1</th>\n",
       "      <td>b</td>\n",
       "      <td>b</td>\n",
       "      <td>b</td>\n",
       "      <td>b</td>\n",
       "      <td>b</td>\n",
       "      <td>b</td>\n",
       "      <td>b</td>\n",
       "      <td>b</td>\n",
       "      <td>b</td>\n",
       "      <td>b</td>\n",
       "      <td>...</td>\n",
       "      <td>b</td>\n",
       "      <td>b</td>\n",
       "      <td>b</td>\n",
       "      <td>b</td>\n",
       "      <td>b</td>\n",
       "      <td>b</td>\n",
       "      <td>b</td>\n",
       "      <td>b</td>\n",
       "      <td>b</td>\n",
       "      <td>win</td>\n",
       "    </tr>\n",
       "    <tr>\n",
       "      <th>2</th>\n",
       "      <td>b</td>\n",
       "      <td>b</td>\n",
       "      <td>b</td>\n",
       "      <td>b</td>\n",
       "      <td>b</td>\n",
       "      <td>b</td>\n",
       "      <td>o</td>\n",
       "      <td>b</td>\n",
       "      <td>b</td>\n",
       "      <td>b</td>\n",
       "      <td>...</td>\n",
       "      <td>b</td>\n",
       "      <td>b</td>\n",
       "      <td>b</td>\n",
       "      <td>b</td>\n",
       "      <td>b</td>\n",
       "      <td>b</td>\n",
       "      <td>b</td>\n",
       "      <td>b</td>\n",
       "      <td>b</td>\n",
       "      <td>win</td>\n",
       "    </tr>\n",
       "    <tr>\n",
       "      <th>3</th>\n",
       "      <td>b</td>\n",
       "      <td>b</td>\n",
       "      <td>b</td>\n",
       "      <td>b</td>\n",
       "      <td>b</td>\n",
       "      <td>b</td>\n",
       "      <td>b</td>\n",
       "      <td>b</td>\n",
       "      <td>b</td>\n",
       "      <td>b</td>\n",
       "      <td>...</td>\n",
       "      <td>b</td>\n",
       "      <td>b</td>\n",
       "      <td>b</td>\n",
       "      <td>b</td>\n",
       "      <td>b</td>\n",
       "      <td>b</td>\n",
       "      <td>b</td>\n",
       "      <td>b</td>\n",
       "      <td>b</td>\n",
       "      <td>win</td>\n",
       "    </tr>\n",
       "    <tr>\n",
       "      <th>4</th>\n",
       "      <td>o</td>\n",
       "      <td>b</td>\n",
       "      <td>b</td>\n",
       "      <td>b</td>\n",
       "      <td>b</td>\n",
       "      <td>b</td>\n",
       "      <td>b</td>\n",
       "      <td>b</td>\n",
       "      <td>b</td>\n",
       "      <td>b</td>\n",
       "      <td>...</td>\n",
       "      <td>b</td>\n",
       "      <td>b</td>\n",
       "      <td>b</td>\n",
       "      <td>b</td>\n",
       "      <td>b</td>\n",
       "      <td>b</td>\n",
       "      <td>b</td>\n",
       "      <td>b</td>\n",
       "      <td>b</td>\n",
       "      <td>win</td>\n",
       "    </tr>\n",
       "  </tbody>\n",
       "</table>\n",
       "<p>5 rows × 43 columns</p>\n",
       "</div>"
      ],
      "text/plain": [
       "  0  1  2  3  4  5  6  7  8  9  ...  33 34 35 36 37 38 39 40 41   42\n",
       "0  b  b  b  b  b  b  b  b  b  b ...   b  b  b  b  b  b  b  b  b  win\n",
       "1  b  b  b  b  b  b  b  b  b  b ...   b  b  b  b  b  b  b  b  b  win\n",
       "2  b  b  b  b  b  b  o  b  b  b ...   b  b  b  b  b  b  b  b  b  win\n",
       "3  b  b  b  b  b  b  b  b  b  b ...   b  b  b  b  b  b  b  b  b  win\n",
       "4  o  b  b  b  b  b  b  b  b  b ...   b  b  b  b  b  b  b  b  b  win\n",
       "\n",
       "[5 rows x 43 columns]"
      ]
     },
     "execution_count": 4,
     "metadata": {},
     "output_type": "execute_result"
    }
   ],
   "source": [
    "data.head()"
   ]
  },
  {
   "cell_type": "markdown",
   "metadata": {},
   "source": [
    "## Pre-Processing"
   ]
  },
  {
   "cell_type": "code",
   "execution_count": 5,
   "metadata": {
    "collapsed": true
   },
   "outputs": [],
   "source": [
    "width = ['A', 'B', 'C', 'D', 'E', 'F', 'G']\n",
    "height = range(1, 7)\n",
    "cols = []"
   ]
  },
  {
   "cell_type": "code",
   "execution_count": 6,
   "metadata": {
    "collapsed": true
   },
   "outputs": [],
   "source": [
    "for i in width:\n",
    "    for j in height:\n",
    "        cols.append(i + str(j))\n",
    "cols.append('result')\n",
    "data.columns = cols"
   ]
  },
  {
   "cell_type": "code",
   "execution_count": 7,
   "metadata": {},
   "outputs": [
    {
     "data": {
      "text/html": [
       "<div>\n",
       "<style>\n",
       "    .dataframe thead tr:only-child th {\n",
       "        text-align: right;\n",
       "    }\n",
       "\n",
       "    .dataframe thead th {\n",
       "        text-align: left;\n",
       "    }\n",
       "\n",
       "    .dataframe tbody tr th {\n",
       "        vertical-align: top;\n",
       "    }\n",
       "</style>\n",
       "<table border=\"1\" class=\"dataframe\">\n",
       "  <thead>\n",
       "    <tr style=\"text-align: right;\">\n",
       "      <th></th>\n",
       "      <th>A1</th>\n",
       "      <th>A2</th>\n",
       "      <th>A3</th>\n",
       "      <th>A4</th>\n",
       "      <th>A5</th>\n",
       "      <th>A6</th>\n",
       "      <th>B1</th>\n",
       "      <th>B2</th>\n",
       "      <th>B3</th>\n",
       "      <th>B4</th>\n",
       "      <th>...</th>\n",
       "      <th>F4</th>\n",
       "      <th>F5</th>\n",
       "      <th>F6</th>\n",
       "      <th>G1</th>\n",
       "      <th>G2</th>\n",
       "      <th>G3</th>\n",
       "      <th>G4</th>\n",
       "      <th>G5</th>\n",
       "      <th>G6</th>\n",
       "      <th>result</th>\n",
       "    </tr>\n",
       "  </thead>\n",
       "  <tbody>\n",
       "    <tr>\n",
       "      <th>0</th>\n",
       "      <td>b</td>\n",
       "      <td>b</td>\n",
       "      <td>b</td>\n",
       "      <td>b</td>\n",
       "      <td>b</td>\n",
       "      <td>b</td>\n",
       "      <td>b</td>\n",
       "      <td>b</td>\n",
       "      <td>b</td>\n",
       "      <td>b</td>\n",
       "      <td>...</td>\n",
       "      <td>b</td>\n",
       "      <td>b</td>\n",
       "      <td>b</td>\n",
       "      <td>b</td>\n",
       "      <td>b</td>\n",
       "      <td>b</td>\n",
       "      <td>b</td>\n",
       "      <td>b</td>\n",
       "      <td>b</td>\n",
       "      <td>win</td>\n",
       "    </tr>\n",
       "    <tr>\n",
       "      <th>1</th>\n",
       "      <td>b</td>\n",
       "      <td>b</td>\n",
       "      <td>b</td>\n",
       "      <td>b</td>\n",
       "      <td>b</td>\n",
       "      <td>b</td>\n",
       "      <td>b</td>\n",
       "      <td>b</td>\n",
       "      <td>b</td>\n",
       "      <td>b</td>\n",
       "      <td>...</td>\n",
       "      <td>b</td>\n",
       "      <td>b</td>\n",
       "      <td>b</td>\n",
       "      <td>b</td>\n",
       "      <td>b</td>\n",
       "      <td>b</td>\n",
       "      <td>b</td>\n",
       "      <td>b</td>\n",
       "      <td>b</td>\n",
       "      <td>win</td>\n",
       "    </tr>\n",
       "    <tr>\n",
       "      <th>2</th>\n",
       "      <td>b</td>\n",
       "      <td>b</td>\n",
       "      <td>b</td>\n",
       "      <td>b</td>\n",
       "      <td>b</td>\n",
       "      <td>b</td>\n",
       "      <td>o</td>\n",
       "      <td>b</td>\n",
       "      <td>b</td>\n",
       "      <td>b</td>\n",
       "      <td>...</td>\n",
       "      <td>b</td>\n",
       "      <td>b</td>\n",
       "      <td>b</td>\n",
       "      <td>b</td>\n",
       "      <td>b</td>\n",
       "      <td>b</td>\n",
       "      <td>b</td>\n",
       "      <td>b</td>\n",
       "      <td>b</td>\n",
       "      <td>win</td>\n",
       "    </tr>\n",
       "    <tr>\n",
       "      <th>3</th>\n",
       "      <td>b</td>\n",
       "      <td>b</td>\n",
       "      <td>b</td>\n",
       "      <td>b</td>\n",
       "      <td>b</td>\n",
       "      <td>b</td>\n",
       "      <td>b</td>\n",
       "      <td>b</td>\n",
       "      <td>b</td>\n",
       "      <td>b</td>\n",
       "      <td>...</td>\n",
       "      <td>b</td>\n",
       "      <td>b</td>\n",
       "      <td>b</td>\n",
       "      <td>b</td>\n",
       "      <td>b</td>\n",
       "      <td>b</td>\n",
       "      <td>b</td>\n",
       "      <td>b</td>\n",
       "      <td>b</td>\n",
       "      <td>win</td>\n",
       "    </tr>\n",
       "    <tr>\n",
       "      <th>4</th>\n",
       "      <td>o</td>\n",
       "      <td>b</td>\n",
       "      <td>b</td>\n",
       "      <td>b</td>\n",
       "      <td>b</td>\n",
       "      <td>b</td>\n",
       "      <td>b</td>\n",
       "      <td>b</td>\n",
       "      <td>b</td>\n",
       "      <td>b</td>\n",
       "      <td>...</td>\n",
       "      <td>b</td>\n",
       "      <td>b</td>\n",
       "      <td>b</td>\n",
       "      <td>b</td>\n",
       "      <td>b</td>\n",
       "      <td>b</td>\n",
       "      <td>b</td>\n",
       "      <td>b</td>\n",
       "      <td>b</td>\n",
       "      <td>win</td>\n",
       "    </tr>\n",
       "  </tbody>\n",
       "</table>\n",
       "<p>5 rows × 43 columns</p>\n",
       "</div>"
      ],
      "text/plain": [
       "  A1 A2 A3 A4 A5 A6 B1 B2 B3 B4  ...   F4 F5 F6 G1 G2 G3 G4 G5 G6 result\n",
       "0  b  b  b  b  b  b  b  b  b  b  ...    b  b  b  b  b  b  b  b  b    win\n",
       "1  b  b  b  b  b  b  b  b  b  b  ...    b  b  b  b  b  b  b  b  b    win\n",
       "2  b  b  b  b  b  b  o  b  b  b  ...    b  b  b  b  b  b  b  b  b    win\n",
       "3  b  b  b  b  b  b  b  b  b  b  ...    b  b  b  b  b  b  b  b  b    win\n",
       "4  o  b  b  b  b  b  b  b  b  b  ...    b  b  b  b  b  b  b  b  b    win\n",
       "\n",
       "[5 rows x 43 columns]"
      ]
     },
     "execution_count": 7,
     "metadata": {},
     "output_type": "execute_result"
    }
   ],
   "source": [
    "data.head()"
   ]
  },
  {
   "cell_type": "code",
   "execution_count": 8,
   "metadata": {
    "collapsed": true
   },
   "outputs": [],
   "source": [
    "data[data == 'x'] = 1\n",
    "data[data == 'b'] = 0\n",
    "data[data == 'o'] = -1"
   ]
  },
  {
   "cell_type": "code",
   "execution_count": 9,
   "metadata": {
    "collapsed": true
   },
   "outputs": [],
   "source": [
    "win = data[data['result'] == 'win']\n",
    "loss = data[data['result'] == 'loss']\n",
    "draw = data[data['result'] == 'draw']"
   ]
  },
  {
   "cell_type": "code",
   "execution_count": 10,
   "metadata": {
    "collapsed": true
   },
   "outputs": [],
   "source": [
    "win_num = len(win)\n",
    "loss_num = len(loss)\n",
    "draw_num = len(draw)"
   ]
  },
  {
   "cell_type": "code",
   "execution_count": 11,
   "metadata": {
    "collapsed": true
   },
   "outputs": [],
   "source": [
    "win_train = win.sample(n = (int)(win_num * 0.7))\n",
    "loss_train = loss.sample(n = (int)(loss_num * 0.7))\n",
    "draw_train = draw.sample(n = (int)(draw_num * 0.7))"
   ]
  },
  {
   "cell_type": "code",
   "execution_count": 12,
   "metadata": {
    "collapsed": true
   },
   "outputs": [],
   "source": [
    "win_test = win.drop(win_train.index)\n",
    "loss_test = loss.drop(loss_train.index)\n",
    "draw_test = draw.drop(draw_train.index)"
   ]
  },
  {
   "cell_type": "code",
   "execution_count": 13,
   "metadata": {
    "collapsed": true
   },
   "outputs": [],
   "source": [
    "train = pd.concat([win_train, loss_train, draw_train], axis = 0)\n",
    "test = pd.concat([win_test, loss_test, draw_test], axis = 0)"
   ]
  },
  {
   "cell_type": "code",
   "execution_count": 14,
   "metadata": {
    "collapsed": true
   },
   "outputs": [],
   "source": [
    "x_features = list(data.columns)\n",
    "y_feature = 'result'\n",
    "x_features.remove(y_feature)"
   ]
  },
  {
   "cell_type": "code",
   "execution_count": 15,
   "metadata": {
    "collapsed": true
   },
   "outputs": [],
   "source": [
    "X_train = train[x_features].as_matrix()\n",
    "X_test = test[x_features].as_matrix()\n",
    "Y_train = train[y_feature].as_matrix()\n",
    "Y_test = test[y_feature].as_matrix()"
   ]
  },
  {
   "cell_type": "code",
   "execution_count": 16,
   "metadata": {},
   "outputs": [
    {
     "data": {
      "text/plain": [
       "array([0, 0, 0, 0, 0, 0, 0, 0, 0, 0, 0, 0, 1, -1, 0, 0, 0, 0, 1, -1, 1,\n",
       "       -1, 1, -1, 0, 0, 0, 0, 0, 0, 0, 0, 0, 0, 0, 0, 0, 0, 0, 0, 0, 0],\n",
       "      dtype=object)"
      ]
     },
     "execution_count": 16,
     "metadata": {},
     "output_type": "execute_result"
    }
   ],
   "source": [
    "X_test[0]"
   ]
  },
  {
   "cell_type": "markdown",
   "metadata": {},
   "source": [
    "## MLP"
   ]
  },
  {
   "cell_type": "code",
   "execution_count": 17,
   "metadata": {},
   "outputs": [
    {
     "name": "stdout",
     "output_type": "stream",
     "text": [
      "Iteration 1, loss = 0.77480037\n",
      "Iteration 2, loss = 0.58596056\n",
      "Iteration 3, loss = 0.55290928\n",
      "Iteration 4, loss = 0.53174454\n",
      "Iteration 5, loss = 0.51396159\n",
      "Iteration 6, loss = 0.49836109\n",
      "Iteration 7, loss = 0.48650361\n",
      "Iteration 8, loss = 0.47625063\n",
      "Iteration 9, loss = 0.46729095\n",
      "Iteration 10, loss = 0.45881150\n",
      "Iteration 11, loss = 0.45063527\n",
      "Iteration 12, loss = 0.44499604\n",
      "Iteration 13, loss = 0.43902856\n",
      "Iteration 14, loss = 0.43334973\n",
      "Iteration 15, loss = 0.42901277\n",
      "Iteration 16, loss = 0.42412013\n",
      "Iteration 17, loss = 0.42034900\n",
      "Iteration 18, loss = 0.41597051\n",
      "Iteration 19, loss = 0.41234846\n",
      "Iteration 20, loss = 0.40905506\n",
      "Iteration 21, loss = 0.40572014\n",
      "Iteration 22, loss = 0.40410819\n",
      "Iteration 23, loss = 0.40115279\n",
      "Iteration 24, loss = 0.39824971\n",
      "Iteration 25, loss = 0.39631385\n",
      "Iteration 26, loss = 0.39362272\n",
      "Iteration 27, loss = 0.39169619\n",
      "Iteration 28, loss = 0.38997347\n",
      "Iteration 29, loss = 0.38867496\n",
      "Iteration 30, loss = 0.38716768\n",
      "Iteration 31, loss = 0.38598972\n",
      "Iteration 32, loss = 0.38416422\n",
      "Iteration 33, loss = 0.38315273\n",
      "Iteration 34, loss = 0.38183951\n",
      "Iteration 35, loss = 0.38033917\n",
      "Iteration 36, loss = 0.37917645\n",
      "Iteration 37, loss = 0.37789105\n",
      "Iteration 38, loss = 0.37632306\n",
      "Iteration 39, loss = 0.37681263\n",
      "Iteration 40, loss = 0.37502268\n",
      "Iteration 41, loss = 0.37449275\n",
      "Iteration 42, loss = 0.37387138\n",
      "Iteration 43, loss = 0.37366047\n",
      "Iteration 44, loss = 0.37212740\n",
      "Iteration 45, loss = 0.37097835\n",
      "Iteration 46, loss = 0.37066448\n",
      "Iteration 47, loss = 0.37017205\n",
      "Iteration 48, loss = 0.36950609\n",
      "Iteration 49, loss = 0.36846595\n",
      "Iteration 50, loss = 0.36766603\n",
      "Iteration 51, loss = 0.36721275\n",
      "Iteration 52, loss = 0.36737015\n",
      "Iteration 53, loss = 0.36615560\n",
      "Iteration 54, loss = 0.36546307\n",
      "Iteration 55, loss = 0.36523098\n",
      "Iteration 56, loss = 0.36456565\n",
      "Iteration 57, loss = 0.36379335\n",
      "Iteration 58, loss = 0.36327355\n",
      "Iteration 59, loss = 0.36262434\n",
      "Iteration 60, loss = 0.36176314\n",
      "Iteration 61, loss = 0.36084878\n",
      "Iteration 62, loss = 0.36103106\n",
      "Iteration 63, loss = 0.36030252\n",
      "Iteration 64, loss = 0.36026279\n",
      "Iteration 65, loss = 0.35887174\n",
      "Iteration 66, loss = 0.35890683\n",
      "Iteration 67, loss = 0.35802072\n",
      "Iteration 68, loss = 0.35709706\n",
      "Iteration 69, loss = 0.35829698\n",
      "Iteration 70, loss = 0.35613739\n",
      "Iteration 71, loss = 0.35657325\n",
      "Iteration 72, loss = 0.35540859\n",
      "Iteration 73, loss = 0.35522460\n",
      "Iteration 74, loss = 0.35544801\n",
      "Iteration 75, loss = 0.35430134\n",
      "Iteration 76, loss = 0.35358515\n",
      "Iteration 77, loss = 0.35332355\n",
      "Iteration 78, loss = 0.35248539\n",
      "Iteration 79, loss = 0.35221699\n",
      "Iteration 80, loss = 0.35181351\n",
      "Iteration 81, loss = 0.35196845\n",
      "Iteration 82, loss = 0.35101644\n",
      "Iteration 83, loss = 0.35168965\n",
      "Iteration 84, loss = 0.35138214\n",
      "Iteration 85, loss = 0.35005986\n",
      "Iteration 86, loss = 0.34973592\n",
      "Iteration 87, loss = 0.34912633\n",
      "Iteration 88, loss = 0.34881460\n",
      "Iteration 89, loss = 0.34963991\n",
      "Iteration 90, loss = 0.34771554\n",
      "Iteration 91, loss = 0.34774034\n",
      "Iteration 92, loss = 0.34746404\n",
      "Iteration 93, loss = 0.34619247\n",
      "Iteration 94, loss = 0.34755657\n",
      "Iteration 95, loss = 0.34660140\n",
      "Iteration 96, loss = 0.34604839\n",
      "Iteration 97, loss = 0.34587627\n",
      "Iteration 98, loss = 0.34566093\n",
      "Iteration 99, loss = 0.34520254\n",
      "Iteration 100, loss = 0.34497616\n",
      "Iteration 101, loss = 0.34438237\n",
      "Iteration 102, loss = 0.34442652\n",
      "Iteration 103, loss = 0.34404223\n",
      "Iteration 104, loss = 0.34361217\n",
      "Iteration 105, loss = 0.34319053\n",
      "Iteration 106, loss = 0.34246895\n",
      "Iteration 107, loss = 0.34357723\n",
      "Iteration 108, loss = 0.34204112\n",
      "Iteration 109, loss = 0.34138128\n",
      "Iteration 110, loss = 0.34217141\n",
      "Iteration 111, loss = 0.34186475\n",
      "Iteration 112, loss = 0.34110633\n",
      "Iteration 113, loss = 0.34037815\n",
      "Iteration 114, loss = 0.34023296\n",
      "Iteration 115, loss = 0.34084151\n",
      "Iteration 116, loss = 0.33984150\n",
      "Iteration 117, loss = 0.33994144\n",
      "Iteration 118, loss = 0.33929442\n",
      "Iteration 119, loss = 0.33933263\n",
      "Iteration 120, loss = 0.33851242\n",
      "Iteration 121, loss = 0.33863458\n",
      "Iteration 122, loss = 0.33840911\n",
      "Iteration 123, loss = 0.33906718\n",
      "Iteration 124, loss = 0.33835746\n",
      "Iteration 125, loss = 0.33815598\n",
      "Iteration 126, loss = 0.33798338\n",
      "Iteration 127, loss = 0.33809766\n",
      "Iteration 128, loss = 0.33799209\n",
      "Iteration 129, loss = 0.33775414\n",
      "Iteration 130, loss = 0.33633375\n",
      "Iteration 131, loss = 0.33590674\n",
      "Iteration 132, loss = 0.33597685\n",
      "Iteration 133, loss = 0.33683737\n",
      "Iteration 134, loss = 0.33682772\n",
      "Training loss did not improve more than tol=0.000100 for two consecutive epochs. Stopping.\n"
     ]
    },
    {
     "data": {
      "text/plain": [
       "MLPClassifier(activation='relu', alpha=0.0001, batch_size='auto', beta_1=0.9,\n",
       "       beta_2=0.999, early_stopping=False, epsilon=1e-08,\n",
       "       hidden_layer_sizes=(50, 20), learning_rate='constant',\n",
       "       learning_rate_init=0.001, max_iter=200, momentum=0.9,\n",
       "       nesterovs_momentum=True, power_t=0.5, random_state=None,\n",
       "       shuffle=True, solver='adam', tol=0.0001, validation_fraction=0.1,\n",
       "       verbose=1, warm_start=False)"
      ]
     },
     "execution_count": 17,
     "metadata": {},
     "output_type": "execute_result"
    }
   ],
   "source": [
    "MLP_classifier = MLPClassifier(hidden_layer_sizes = (50, 20), verbose = 1)\n",
    "MLP_classifier.fit(X_train, Y_train)"
   ]
  },
  {
   "cell_type": "code",
   "execution_count": 18,
   "metadata": {
    "collapsed": true
   },
   "outputs": [],
   "source": [
    "Y_predict = MLP_classifier.predict(X_test)"
   ]
  },
  {
   "cell_type": "code",
   "execution_count": 19,
   "metadata": {},
   "outputs": [
    {
     "data": {
      "text/plain": [
       "0.8292875468719163"
      ]
     },
     "execution_count": 19,
     "metadata": {},
     "output_type": "execute_result"
    }
   ],
   "source": [
    "MLP_classifier.score(X_test, Y_test)"
   ]
  },
  {
   "cell_type": "code",
   "execution_count": 20,
   "metadata": {
    "collapsed": true
   },
   "outputs": [],
   "source": [
    "Y_score = MLP_classifier.predict_proba(X_test)"
   ]
  },
  {
   "cell_type": "code",
   "execution_count": 21,
   "metadata": {
    "collapsed": true
   },
   "outputs": [],
   "source": [
    "model_accuracy = accuracy_score(Y_predict, Y_test)\n",
    "model_precision = precision_score(Y_predict, Y_test, average = 'weighted')\n",
    "model_recall = recall_score(Y_predict, Y_test, average = 'weighted')\n",
    "model_f1 = f1_score(Y_predict, Y_test, average = 'weighted')"
   ]
  },
  {
   "cell_type": "code",
   "execution_count": 22,
   "metadata": {},
   "outputs": [
    {
     "name": "stdout",
     "output_type": "stream",
     "text": [
      "Accuracy: 0.8292875468719163\n",
      "Precision: 0.8542584361471978\n",
      "Recall: 0.8292875468719163\n",
      "F1 score: 0.8399968262980535\n"
     ]
    }
   ],
   "source": [
    "print(\"Accuracy: \" + str(model_accuracy))\n",
    "print(\"Precision: \" + str(model_precision))\n",
    "print(\"Recall: \" + str(model_recall))\n",
    "print(\"F1 score: \" + str(model_f1))"
   ]
  },
  {
   "cell_type": "markdown",
   "metadata": {},
   "source": [
    "## Save Model"
   ]
  },
  {
   "cell_type": "code",
   "execution_count": 23,
   "metadata": {
    "collapsed": true
   },
   "outputs": [],
   "source": [
    "filename = 'Model/MLP.data'\n",
    "pickle.dump(MLP_classifier, open(filename, 'wb'))"
   ]
  },
  {
   "cell_type": "markdown",
   "metadata": {},
   "source": [
    "## SVM"
   ]
  },
  {
   "cell_type": "code",
   "execution_count": 24,
   "metadata": {
    "collapsed": true
   },
   "outputs": [],
   "source": [
    "clf = svm.SVC(decision_function_shape = 'ovo', verbose = True)"
   ]
  },
  {
   "cell_type": "code",
   "execution_count": 25,
   "metadata": {},
   "outputs": [
    {
     "name": "stdout",
     "output_type": "stream",
     "text": [
      "[LibSVM]"
     ]
    },
    {
     "data": {
      "text/plain": [
       "SVC(C=1.0, cache_size=200, class_weight=None, coef0=0.0,\n",
       "  decision_function_shape='ovo', degree=3, gamma='auto', kernel='rbf',\n",
       "  max_iter=-1, probability=False, random_state=None, shrinking=True,\n",
       "  tol=0.001, verbose=True)"
      ]
     },
     "execution_count": 25,
     "metadata": {},
     "output_type": "execute_result"
    }
   ],
   "source": [
    "clf.fit(X_train, Y_train)"
   ]
  },
  {
   "cell_type": "code",
   "execution_count": 26,
   "metadata": {
    "collapsed": true
   },
   "outputs": [],
   "source": [
    "Y_predict = clf.predict(X_test)"
   ]
  },
  {
   "cell_type": "code",
   "execution_count": 27,
   "metadata": {
    "collapsed": true
   },
   "outputs": [],
   "source": [
    "model_accuracy = accuracy_score(Y_predict, Y_test)\n",
    "model_precision = precision_score(Y_predict, Y_test, average = 'weighted')\n",
    "model_recall = recall_score(Y_predict, Y_test, average = 'weighted')\n",
    "model_f1 = f1_score(Y_predict, Y_test, average = 'weighted')"
   ]
  },
  {
   "cell_type": "code",
   "execution_count": 28,
   "metadata": {},
   "outputs": [
    {
     "name": "stdout",
     "output_type": "stream",
     "text": [
      "Accuracy: 0.7846358792184724\n",
      "Precision: 0.8744461077658792\n",
      "Recall: 0.7846358792184724\n",
      "F1 score: 0.8251162442898731\n"
     ]
    }
   ],
   "source": [
    "print(\"Accuracy: \" + str(model_accuracy))\n",
    "print(\"Precision: \" + str(model_precision))\n",
    "print(\"Recall: \" + str(model_recall))\n",
    "print(\"F1 score: \" + str(model_f1))"
   ]
  },
  {
   "cell_type": "code",
   "execution_count": 29,
   "metadata": {
    "collapsed": true
   },
   "outputs": [],
   "source": [
    "filename = 'Model/SVM.data'\n",
    "pickle.dump(clf, open(filename, 'wb'))"
   ]
  }
 ],
 "metadata": {
  "kernelspec": {
   "display_name": "Python 3",
   "language": "python",
   "name": "python3"
  },
  "language_info": {
   "codemirror_mode": {
    "name": "ipython",
    "version": 3
   },
   "file_extension": ".py",
   "mimetype": "text/x-python",
   "name": "python",
   "nbconvert_exporter": "python",
   "pygments_lexer": "ipython3",
   "version": "3.6.1"
  }
 },
 "nbformat": 4,
 "nbformat_minor": 2
}
