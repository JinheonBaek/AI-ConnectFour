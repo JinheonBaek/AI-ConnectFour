{
 "cells": [
  {
   "cell_type": "markdown",
   "metadata": {},
   "source": [
    "## Import Module"
   ]
  },
  {
   "cell_type": "code",
   "execution_count": 47,
   "metadata": {
    "collapsed": true
   },
   "outputs": [],
   "source": [
    "import pandas as pd\n",
    "import numpy as np\n",
    "from sklearn.neural_network import MLPClassifier\n",
    "from sklearn.metrics import accuracy_score, precision_score, recall_score, f1_score\n",
    "from sklearn import svm\n",
    "import pickle"
   ]
  },
  {
   "cell_type": "markdown",
   "metadata": {},
   "source": [
    "## Load Dataset"
   ]
  },
  {
   "cell_type": "code",
   "execution_count": 2,
   "metadata": {
    "collapsed": true
   },
   "outputs": [],
   "source": [
    "data = pd.read_csv(r'connect-4.csv', header = None)"
   ]
  },
  {
   "cell_type": "code",
   "execution_count": 3,
   "metadata": {},
   "outputs": [
    {
     "data": {
      "text/html": [
       "<div>\n",
       "<style>\n",
       "    .dataframe thead tr:only-child th {\n",
       "        text-align: right;\n",
       "    }\n",
       "\n",
       "    .dataframe thead th {\n",
       "        text-align: left;\n",
       "    }\n",
       "\n",
       "    .dataframe tbody tr th {\n",
       "        vertical-align: top;\n",
       "    }\n",
       "</style>\n",
       "<table border=\"1\" class=\"dataframe\">\n",
       "  <thead>\n",
       "    <tr style=\"text-align: right;\">\n",
       "      <th></th>\n",
       "      <th>0</th>\n",
       "      <th>1</th>\n",
       "      <th>2</th>\n",
       "      <th>3</th>\n",
       "      <th>4</th>\n",
       "      <th>5</th>\n",
       "      <th>6</th>\n",
       "      <th>7</th>\n",
       "      <th>8</th>\n",
       "      <th>9</th>\n",
       "      <th>...</th>\n",
       "      <th>33</th>\n",
       "      <th>34</th>\n",
       "      <th>35</th>\n",
       "      <th>36</th>\n",
       "      <th>37</th>\n",
       "      <th>38</th>\n",
       "      <th>39</th>\n",
       "      <th>40</th>\n",
       "      <th>41</th>\n",
       "      <th>42</th>\n",
       "    </tr>\n",
       "  </thead>\n",
       "  <tbody>\n",
       "    <tr>\n",
       "      <th>0</th>\n",
       "      <td>b</td>\n",
       "      <td>b</td>\n",
       "      <td>b</td>\n",
       "      <td>b</td>\n",
       "      <td>b</td>\n",
       "      <td>b</td>\n",
       "      <td>b</td>\n",
       "      <td>b</td>\n",
       "      <td>b</td>\n",
       "      <td>b</td>\n",
       "      <td>...</td>\n",
       "      <td>b</td>\n",
       "      <td>b</td>\n",
       "      <td>b</td>\n",
       "      <td>b</td>\n",
       "      <td>b</td>\n",
       "      <td>b</td>\n",
       "      <td>b</td>\n",
       "      <td>b</td>\n",
       "      <td>b</td>\n",
       "      <td>win</td>\n",
       "    </tr>\n",
       "    <tr>\n",
       "      <th>1</th>\n",
       "      <td>b</td>\n",
       "      <td>b</td>\n",
       "      <td>b</td>\n",
       "      <td>b</td>\n",
       "      <td>b</td>\n",
       "      <td>b</td>\n",
       "      <td>b</td>\n",
       "      <td>b</td>\n",
       "      <td>b</td>\n",
       "      <td>b</td>\n",
       "      <td>...</td>\n",
       "      <td>b</td>\n",
       "      <td>b</td>\n",
       "      <td>b</td>\n",
       "      <td>b</td>\n",
       "      <td>b</td>\n",
       "      <td>b</td>\n",
       "      <td>b</td>\n",
       "      <td>b</td>\n",
       "      <td>b</td>\n",
       "      <td>win</td>\n",
       "    </tr>\n",
       "    <tr>\n",
       "      <th>2</th>\n",
       "      <td>b</td>\n",
       "      <td>b</td>\n",
       "      <td>b</td>\n",
       "      <td>b</td>\n",
       "      <td>b</td>\n",
       "      <td>b</td>\n",
       "      <td>o</td>\n",
       "      <td>b</td>\n",
       "      <td>b</td>\n",
       "      <td>b</td>\n",
       "      <td>...</td>\n",
       "      <td>b</td>\n",
       "      <td>b</td>\n",
       "      <td>b</td>\n",
       "      <td>b</td>\n",
       "      <td>b</td>\n",
       "      <td>b</td>\n",
       "      <td>b</td>\n",
       "      <td>b</td>\n",
       "      <td>b</td>\n",
       "      <td>win</td>\n",
       "    </tr>\n",
       "    <tr>\n",
       "      <th>3</th>\n",
       "      <td>b</td>\n",
       "      <td>b</td>\n",
       "      <td>b</td>\n",
       "      <td>b</td>\n",
       "      <td>b</td>\n",
       "      <td>b</td>\n",
       "      <td>b</td>\n",
       "      <td>b</td>\n",
       "      <td>b</td>\n",
       "      <td>b</td>\n",
       "      <td>...</td>\n",
       "      <td>b</td>\n",
       "      <td>b</td>\n",
       "      <td>b</td>\n",
       "      <td>b</td>\n",
       "      <td>b</td>\n",
       "      <td>b</td>\n",
       "      <td>b</td>\n",
       "      <td>b</td>\n",
       "      <td>b</td>\n",
       "      <td>win</td>\n",
       "    </tr>\n",
       "    <tr>\n",
       "      <th>4</th>\n",
       "      <td>o</td>\n",
       "      <td>b</td>\n",
       "      <td>b</td>\n",
       "      <td>b</td>\n",
       "      <td>b</td>\n",
       "      <td>b</td>\n",
       "      <td>b</td>\n",
       "      <td>b</td>\n",
       "      <td>b</td>\n",
       "      <td>b</td>\n",
       "      <td>...</td>\n",
       "      <td>b</td>\n",
       "      <td>b</td>\n",
       "      <td>b</td>\n",
       "      <td>b</td>\n",
       "      <td>b</td>\n",
       "      <td>b</td>\n",
       "      <td>b</td>\n",
       "      <td>b</td>\n",
       "      <td>b</td>\n",
       "      <td>win</td>\n",
       "    </tr>\n",
       "  </tbody>\n",
       "</table>\n",
       "<p>5 rows × 43 columns</p>\n",
       "</div>"
      ],
      "text/plain": [
       "  0  1  2  3  4  5  6  7  8  9  ...  33 34 35 36 37 38 39 40 41   42\n",
       "0  b  b  b  b  b  b  b  b  b  b ...   b  b  b  b  b  b  b  b  b  win\n",
       "1  b  b  b  b  b  b  b  b  b  b ...   b  b  b  b  b  b  b  b  b  win\n",
       "2  b  b  b  b  b  b  o  b  b  b ...   b  b  b  b  b  b  b  b  b  win\n",
       "3  b  b  b  b  b  b  b  b  b  b ...   b  b  b  b  b  b  b  b  b  win\n",
       "4  o  b  b  b  b  b  b  b  b  b ...   b  b  b  b  b  b  b  b  b  win\n",
       "\n",
       "[5 rows x 43 columns]"
      ]
     },
     "execution_count": 3,
     "metadata": {},
     "output_type": "execute_result"
    }
   ],
   "source": [
    "data.head()"
   ]
  },
  {
   "cell_type": "markdown",
   "metadata": {},
   "source": [
    "## Pre-Processing"
   ]
  },
  {
   "cell_type": "code",
   "execution_count": 4,
   "metadata": {
    "collapsed": true
   },
   "outputs": [],
   "source": [
    "width = ['A', 'B', 'C', 'D', 'E', 'F', 'G']\n",
    "height = range(1, 7)\n",
    "cols = []"
   ]
  },
  {
   "cell_type": "code",
   "execution_count": 5,
   "metadata": {
    "collapsed": true
   },
   "outputs": [],
   "source": [
    "for i in width:\n",
    "    for j in height:\n",
    "        cols.append(i + str(j))\n",
    "cols.append('result')\n",
    "data.columns = cols"
   ]
  },
  {
   "cell_type": "code",
   "execution_count": 6,
   "metadata": {},
   "outputs": [
    {
     "data": {
      "text/html": [
       "<div>\n",
       "<style>\n",
       "    .dataframe thead tr:only-child th {\n",
       "        text-align: right;\n",
       "    }\n",
       "\n",
       "    .dataframe thead th {\n",
       "        text-align: left;\n",
       "    }\n",
       "\n",
       "    .dataframe tbody tr th {\n",
       "        vertical-align: top;\n",
       "    }\n",
       "</style>\n",
       "<table border=\"1\" class=\"dataframe\">\n",
       "  <thead>\n",
       "    <tr style=\"text-align: right;\">\n",
       "      <th></th>\n",
       "      <th>A1</th>\n",
       "      <th>A2</th>\n",
       "      <th>A3</th>\n",
       "      <th>A4</th>\n",
       "      <th>A5</th>\n",
       "      <th>A6</th>\n",
       "      <th>B1</th>\n",
       "      <th>B2</th>\n",
       "      <th>B3</th>\n",
       "      <th>B4</th>\n",
       "      <th>...</th>\n",
       "      <th>F4</th>\n",
       "      <th>F5</th>\n",
       "      <th>F6</th>\n",
       "      <th>G1</th>\n",
       "      <th>G2</th>\n",
       "      <th>G3</th>\n",
       "      <th>G4</th>\n",
       "      <th>G5</th>\n",
       "      <th>G6</th>\n",
       "      <th>result</th>\n",
       "    </tr>\n",
       "  </thead>\n",
       "  <tbody>\n",
       "    <tr>\n",
       "      <th>0</th>\n",
       "      <td>b</td>\n",
       "      <td>b</td>\n",
       "      <td>b</td>\n",
       "      <td>b</td>\n",
       "      <td>b</td>\n",
       "      <td>b</td>\n",
       "      <td>b</td>\n",
       "      <td>b</td>\n",
       "      <td>b</td>\n",
       "      <td>b</td>\n",
       "      <td>...</td>\n",
       "      <td>b</td>\n",
       "      <td>b</td>\n",
       "      <td>b</td>\n",
       "      <td>b</td>\n",
       "      <td>b</td>\n",
       "      <td>b</td>\n",
       "      <td>b</td>\n",
       "      <td>b</td>\n",
       "      <td>b</td>\n",
       "      <td>win</td>\n",
       "    </tr>\n",
       "    <tr>\n",
       "      <th>1</th>\n",
       "      <td>b</td>\n",
       "      <td>b</td>\n",
       "      <td>b</td>\n",
       "      <td>b</td>\n",
       "      <td>b</td>\n",
       "      <td>b</td>\n",
       "      <td>b</td>\n",
       "      <td>b</td>\n",
       "      <td>b</td>\n",
       "      <td>b</td>\n",
       "      <td>...</td>\n",
       "      <td>b</td>\n",
       "      <td>b</td>\n",
       "      <td>b</td>\n",
       "      <td>b</td>\n",
       "      <td>b</td>\n",
       "      <td>b</td>\n",
       "      <td>b</td>\n",
       "      <td>b</td>\n",
       "      <td>b</td>\n",
       "      <td>win</td>\n",
       "    </tr>\n",
       "    <tr>\n",
       "      <th>2</th>\n",
       "      <td>b</td>\n",
       "      <td>b</td>\n",
       "      <td>b</td>\n",
       "      <td>b</td>\n",
       "      <td>b</td>\n",
       "      <td>b</td>\n",
       "      <td>o</td>\n",
       "      <td>b</td>\n",
       "      <td>b</td>\n",
       "      <td>b</td>\n",
       "      <td>...</td>\n",
       "      <td>b</td>\n",
       "      <td>b</td>\n",
       "      <td>b</td>\n",
       "      <td>b</td>\n",
       "      <td>b</td>\n",
       "      <td>b</td>\n",
       "      <td>b</td>\n",
       "      <td>b</td>\n",
       "      <td>b</td>\n",
       "      <td>win</td>\n",
       "    </tr>\n",
       "    <tr>\n",
       "      <th>3</th>\n",
       "      <td>b</td>\n",
       "      <td>b</td>\n",
       "      <td>b</td>\n",
       "      <td>b</td>\n",
       "      <td>b</td>\n",
       "      <td>b</td>\n",
       "      <td>b</td>\n",
       "      <td>b</td>\n",
       "      <td>b</td>\n",
       "      <td>b</td>\n",
       "      <td>...</td>\n",
       "      <td>b</td>\n",
       "      <td>b</td>\n",
       "      <td>b</td>\n",
       "      <td>b</td>\n",
       "      <td>b</td>\n",
       "      <td>b</td>\n",
       "      <td>b</td>\n",
       "      <td>b</td>\n",
       "      <td>b</td>\n",
       "      <td>win</td>\n",
       "    </tr>\n",
       "    <tr>\n",
       "      <th>4</th>\n",
       "      <td>o</td>\n",
       "      <td>b</td>\n",
       "      <td>b</td>\n",
       "      <td>b</td>\n",
       "      <td>b</td>\n",
       "      <td>b</td>\n",
       "      <td>b</td>\n",
       "      <td>b</td>\n",
       "      <td>b</td>\n",
       "      <td>b</td>\n",
       "      <td>...</td>\n",
       "      <td>b</td>\n",
       "      <td>b</td>\n",
       "      <td>b</td>\n",
       "      <td>b</td>\n",
       "      <td>b</td>\n",
       "      <td>b</td>\n",
       "      <td>b</td>\n",
       "      <td>b</td>\n",
       "      <td>b</td>\n",
       "      <td>win</td>\n",
       "    </tr>\n",
       "  </tbody>\n",
       "</table>\n",
       "<p>5 rows × 43 columns</p>\n",
       "</div>"
      ],
      "text/plain": [
       "  A1 A2 A3 A4 A5 A6 B1 B2 B3 B4  ...   F4 F5 F6 G1 G2 G3 G4 G5 G6 result\n",
       "0  b  b  b  b  b  b  b  b  b  b  ...    b  b  b  b  b  b  b  b  b    win\n",
       "1  b  b  b  b  b  b  b  b  b  b  ...    b  b  b  b  b  b  b  b  b    win\n",
       "2  b  b  b  b  b  b  o  b  b  b  ...    b  b  b  b  b  b  b  b  b    win\n",
       "3  b  b  b  b  b  b  b  b  b  b  ...    b  b  b  b  b  b  b  b  b    win\n",
       "4  o  b  b  b  b  b  b  b  b  b  ...    b  b  b  b  b  b  b  b  b    win\n",
       "\n",
       "[5 rows x 43 columns]"
      ]
     },
     "execution_count": 6,
     "metadata": {},
     "output_type": "execute_result"
    }
   ],
   "source": [
    "data.head()"
   ]
  },
  {
   "cell_type": "code",
   "execution_count": 7,
   "metadata": {
    "collapsed": true
   },
   "outputs": [],
   "source": [
    "data[data == 'x'] = 1\n",
    "data[data == 'b'] = 0\n",
    "data[data == 'o'] = -1"
   ]
  },
  {
   "cell_type": "code",
   "execution_count": 8,
   "metadata": {
    "collapsed": true
   },
   "outputs": [],
   "source": [
    "win = data[data['result'] == 'win']\n",
    "loss = data[data['result'] == 'loss']\n",
    "draw = data[data['result'] == 'draw']"
   ]
  },
  {
   "cell_type": "code",
   "execution_count": 9,
   "metadata": {
    "collapsed": true
   },
   "outputs": [],
   "source": [
    "win_num = len(win)\n",
    "loss_num = len(loss)\n",
    "draw_num = len(draw)"
   ]
  },
  {
   "cell_type": "code",
   "execution_count": 10,
   "metadata": {
    "collapsed": true
   },
   "outputs": [],
   "source": [
    "win_train = win.sample(n = (int)(win_num * 0.7))\n",
    "loss_train = loss.sample(n = (int)(loss_num * 0.7))\n",
    "draw_train = draw.sample(n = (int)(draw_num * 0.7))"
   ]
  },
  {
   "cell_type": "code",
   "execution_count": 11,
   "metadata": {
    "collapsed": true
   },
   "outputs": [],
   "source": [
    "win_test = win.drop(win_train.index)\n",
    "loss_test = loss.drop(loss_train.index)\n",
    "draw_test = draw.drop(draw_train.index)"
   ]
  },
  {
   "cell_type": "code",
   "execution_count": 12,
   "metadata": {
    "collapsed": true
   },
   "outputs": [],
   "source": [
    "train = pd.concat([win_train, loss_train, draw_train], axis = 0)\n",
    "test = pd.concat([win_test, loss_test, draw_test], axis = 0)"
   ]
  },
  {
   "cell_type": "code",
   "execution_count": 13,
   "metadata": {
    "collapsed": true
   },
   "outputs": [],
   "source": [
    "x_features = list(data.columns)\n",
    "y_feature = 'result'\n",
    "x_features.remove(y_feature)"
   ]
  },
  {
   "cell_type": "code",
   "execution_count": 14,
   "metadata": {
    "collapsed": true
   },
   "outputs": [],
   "source": [
    "X_train = train[x_features].as_matrix()\n",
    "X_test = test[x_features].as_matrix()\n",
    "Y_train = train[y_feature].as_matrix()\n",
    "Y_test = test[y_feature].as_matrix()"
   ]
  },
  {
   "cell_type": "code",
   "execution_count": null,
   "metadata": {},
   "outputs": [],
   "source": []
  },
  {
   "cell_type": "markdown",
   "metadata": {},
   "source": [
    "## MLP"
   ]
  },
  {
   "cell_type": "code",
   "execution_count": 36,
   "metadata": {},
   "outputs": [
    {
     "name": "stdout",
     "output_type": "stream",
     "text": [
      "Iteration 1, loss = 0.69972966\n",
      "Iteration 2, loss = 0.57070077\n",
      "Iteration 3, loss = 0.54121715\n",
      "Iteration 4, loss = 0.51893612\n",
      "Iteration 5, loss = 0.50023180\n",
      "Iteration 6, loss = 0.48321388\n",
      "Iteration 7, loss = 0.47011570\n",
      "Iteration 8, loss = 0.45893539\n",
      "Iteration 9, loss = 0.44921104\n",
      "Iteration 10, loss = 0.44150963\n",
      "Iteration 11, loss = 0.43406368\n",
      "Iteration 12, loss = 0.42819700\n",
      "Iteration 13, loss = 0.42301189\n",
      "Iteration 14, loss = 0.41810046\n",
      "Iteration 15, loss = 0.41349600\n",
      "Iteration 16, loss = 0.41051077\n",
      "Iteration 17, loss = 0.40670663\n",
      "Iteration 18, loss = 0.40341004\n",
      "Iteration 19, loss = 0.40103268\n",
      "Iteration 20, loss = 0.39835469\n",
      "Iteration 21, loss = 0.39561157\n",
      "Iteration 22, loss = 0.39310831\n",
      "Iteration 23, loss = 0.39137146\n",
      "Iteration 24, loss = 0.38848339\n",
      "Iteration 25, loss = 0.38672681\n",
      "Iteration 26, loss = 0.38478152\n",
      "Iteration 27, loss = 0.38301610\n",
      "Iteration 28, loss = 0.38178700\n",
      "Iteration 29, loss = 0.37997552\n",
      "Iteration 30, loss = 0.37837503\n",
      "Iteration 31, loss = 0.37736957\n",
      "Iteration 32, loss = 0.37589838\n",
      "Iteration 33, loss = 0.37535950\n",
      "Iteration 34, loss = 0.37351110\n",
      "Iteration 35, loss = 0.37246368\n",
      "Iteration 36, loss = 0.37125839\n",
      "Iteration 37, loss = 0.37007813\n",
      "Iteration 38, loss = 0.36896075\n",
      "Iteration 39, loss = 0.36783753\n",
      "Iteration 40, loss = 0.36638709\n",
      "Iteration 41, loss = 0.36573141\n",
      "Iteration 42, loss = 0.36485368\n",
      "Iteration 43, loss = 0.36365185\n",
      "Iteration 44, loss = 0.36280129\n",
      "Iteration 45, loss = 0.36283584\n",
      "Iteration 46, loss = 0.36083914\n",
      "Iteration 47, loss = 0.36014364\n",
      "Iteration 48, loss = 0.35956214\n",
      "Iteration 49, loss = 0.35809152\n",
      "Iteration 50, loss = 0.35823502\n",
      "Iteration 51, loss = 0.35664050\n",
      "Iteration 52, loss = 0.35666328\n",
      "Iteration 53, loss = 0.35494177\n",
      "Iteration 54, loss = 0.35426384\n",
      "Iteration 55, loss = 0.35360408\n",
      "Iteration 56, loss = 0.35344290\n",
      "Iteration 57, loss = 0.35347891\n",
      "Iteration 58, loss = 0.35198910\n",
      "Iteration 59, loss = 0.35172190\n",
      "Iteration 60, loss = 0.35178366\n",
      "Iteration 61, loss = 0.35017579\n",
      "Iteration 62, loss = 0.34964398\n",
      "Iteration 63, loss = 0.34914774\n",
      "Iteration 64, loss = 0.34854923\n",
      "Iteration 65, loss = 0.34797498\n",
      "Iteration 66, loss = 0.34709321\n",
      "Iteration 67, loss = 0.34659229\n",
      "Iteration 68, loss = 0.34657523\n",
      "Iteration 69, loss = 0.34624134\n",
      "Iteration 70, loss = 0.34516961\n",
      "Iteration 71, loss = 0.34437627\n",
      "Iteration 72, loss = 0.34368938\n",
      "Iteration 73, loss = 0.34310456\n",
      "Iteration 74, loss = 0.34301112\n",
      "Iteration 75, loss = 0.34292418\n",
      "Iteration 76, loss = 0.34179412\n",
      "Iteration 77, loss = 0.34197244\n",
      "Iteration 78, loss = 0.34033623\n",
      "Iteration 79, loss = 0.34102724\n",
      "Iteration 80, loss = 0.34046980\n",
      "Iteration 81, loss = 0.33995005\n",
      "Iteration 82, loss = 0.33968964\n",
      "Iteration 83, loss = 0.33885910\n",
      "Iteration 84, loss = 0.33896416\n",
      "Iteration 85, loss = 0.33850183\n",
      "Iteration 86, loss = 0.33808498\n",
      "Iteration 87, loss = 0.33787678\n",
      "Iteration 88, loss = 0.33733877\n",
      "Iteration 89, loss = 0.33726902\n",
      "Iteration 90, loss = 0.33689499\n",
      "Iteration 91, loss = 0.33660400\n",
      "Iteration 92, loss = 0.33540854\n",
      "Iteration 93, loss = 0.33529842\n",
      "Iteration 94, loss = 0.33534596\n",
      "Iteration 95, loss = 0.33467220\n",
      "Iteration 96, loss = 0.33422348\n",
      "Iteration 97, loss = 0.33335624\n",
      "Iteration 98, loss = 0.33404145\n",
      "Iteration 99, loss = 0.33370491\n",
      "Iteration 100, loss = 0.33342639\n",
      "Training loss did not improve more than tol=0.000100 for two consecutive epochs. Stopping.\n"
     ]
    },
    {
     "data": {
      "text/plain": [
       "MLPClassifier(activation='relu', alpha=0.0001, batch_size='auto', beta_1=0.9,\n",
       "       beta_2=0.999, early_stopping=False, epsilon=1e-08,\n",
       "       hidden_layer_sizes=(50, 20), learning_rate='constant',\n",
       "       learning_rate_init=0.001, max_iter=200, momentum=0.9,\n",
       "       nesterovs_momentum=True, power_t=0.5, random_state=None,\n",
       "       shuffle=True, solver='adam', tol=0.0001, validation_fraction=0.1,\n",
       "       verbose=1, warm_start=False)"
      ]
     },
     "execution_count": 36,
     "metadata": {},
     "output_type": "execute_result"
    }
   ],
   "source": [
    "MLP_classifier = MLPClassifier(hidden_layer_sizes = (50, 20), verbose = 1)\n",
    "MLP_classifier.fit(X_train, Y_train)"
   ]
  },
  {
   "cell_type": "code",
   "execution_count": 37,
   "metadata": {
    "collapsed": true
   },
   "outputs": [],
   "source": [
    "Y_predict = MLP_classifier.predict(X_test)"
   ]
  },
  {
   "cell_type": "code",
   "execution_count": 38,
   "metadata": {},
   "outputs": [
    {
     "data": {
      "text/plain": [
       "0.8362936648904677"
      ]
     },
     "execution_count": 38,
     "metadata": {},
     "output_type": "execute_result"
    }
   ],
   "source": [
    "MLP_classifier.score(X_test, Y_test)"
   ]
  },
  {
   "cell_type": "code",
   "execution_count": 39,
   "metadata": {
    "collapsed": true
   },
   "outputs": [],
   "source": [
    "Y_score = MLP_classifier.predict_proba(X_test)"
   ]
  },
  {
   "cell_type": "code",
   "execution_count": 40,
   "metadata": {
    "collapsed": true
   },
   "outputs": [],
   "source": [
    "model_accuracy = accuracy_score(Y_predict, Y_test)\n",
    "model_precision = precision_score(Y_predict, Y_test, average = 'weighted')\n",
    "model_recall = recall_score(Y_predict, Y_test, average = 'weighted')\n",
    "model_f1 = f1_score(Y_predict, Y_test, average = 'weighted')"
   ]
  },
  {
   "cell_type": "code",
   "execution_count": 41,
   "metadata": {},
   "outputs": [
    {
     "name": "stdout",
     "output_type": "stream",
     "text": [
      "Accuracy: 0.8362936648904677\n",
      "Precision: 0.86877164067866\n",
      "Recall: 0.8362936648904677\n",
      "F1 score: 0.8500035423179149\n"
     ]
    }
   ],
   "source": [
    "print(\"Accuracy: \" + str(model_accuracy))\n",
    "print(\"Precision: \" + str(model_precision))\n",
    "print(\"Recall: \" + str(model_recall))\n",
    "print(\"F1 score: \" + str(model_f1))"
   ]
  },
  {
   "cell_type": "code",
   "execution_count": 42,
   "metadata": {},
   "outputs": [
    {
     "data": {
      "text/plain": [
       "array([1.13855729e-02, 1.20870683e-04, 9.88493556e-01])"
      ]
     },
     "execution_count": 42,
     "metadata": {},
     "output_type": "execute_result"
    }
   ],
   "source": [
    "Y_score[0]"
   ]
  },
  {
   "cell_type": "code",
   "execution_count": 43,
   "metadata": {},
   "outputs": [
    {
     "data": {
      "text/plain": [
       "('win', 'win', array([1.13855729e-02, 1.20870683e-04, 9.88493556e-01]))"
      ]
     },
     "execution_count": 43,
     "metadata": {},
     "output_type": "execute_result"
    }
   ],
   "source": [
    "Y_test[0], Y_predict[0], Y_score[0]"
   ]
  },
  {
   "cell_type": "markdown",
   "metadata": {},
   "source": [
    "## Save Model"
   ]
  },
  {
   "cell_type": "code",
   "execution_count": 52,
   "metadata": {},
   "outputs": [],
   "source": [
    "filename = 'MLP.data'\n",
    "pickle.dump(MLP_classifier, open(filename, 'wb'))"
   ]
  },
  {
   "cell_type": "markdown",
   "metadata": {},
   "source": [
    "## SVM"
   ]
  },
  {
   "cell_type": "code",
   "execution_count": 26,
   "metadata": {
    "collapsed": true
   },
   "outputs": [],
   "source": [
    "clf = svm.SVC(decision_function_shape = 'ovo', verbose = True)"
   ]
  },
  {
   "cell_type": "code",
   "execution_count": 28,
   "metadata": {},
   "outputs": [
    {
     "name": "stdout",
     "output_type": "stream",
     "text": [
      "[LibSVM]"
     ]
    },
    {
     "data": {
      "text/plain": [
       "SVC(C=1.0, cache_size=200, class_weight=None, coef0=0.0,\n",
       "  decision_function_shape='ovo', degree=3, gamma='auto', kernel='rbf',\n",
       "  max_iter=-1, probability=False, random_state=None, shrinking=True,\n",
       "  tol=0.001, verbose=True)"
      ]
     },
     "execution_count": 28,
     "metadata": {},
     "output_type": "execute_result"
    }
   ],
   "source": [
    "clf.fit(X_train, Y_train)"
   ]
  },
  {
   "cell_type": "code",
   "execution_count": 30,
   "metadata": {},
   "outputs": [],
   "source": [
    "Y_predict = clf.predict(X_test)"
   ]
  },
  {
   "cell_type": "code",
   "execution_count": 34,
   "metadata": {},
   "outputs": [],
   "source": [
    "model_accuracy = accuracy_score(Y_predict, Y_test)\n",
    "model_precision = precision_score(Y_predict, Y_test, average = 'weighted')\n",
    "model_recall = recall_score(Y_predict, Y_test, average = 'weighted')\n",
    "model_f1 = f1_score(Y_predict, Y_test, average = 'weighted')"
   ]
  },
  {
   "cell_type": "code",
   "execution_count": 35,
   "metadata": {},
   "outputs": [
    {
     "name": "stdout",
     "output_type": "stream",
     "text": [
      "Accuracy: 0.7842411683441879\n",
      "Precision: 0.8761346695033123\n",
      "Recall: 0.7842411683441879\n",
      "F1 score: 0.8256680645046046\n"
     ]
    }
   ],
   "source": [
    "print(\"Accuracy: \" + str(model_accuracy))\n",
    "print(\"Precision: \" + str(model_precision))\n",
    "print(\"Recall: \" + str(model_recall))\n",
    "print(\"F1 score: \" + str(model_f1))"
   ]
  },
  {
   "cell_type": "code",
   "execution_count": null,
   "metadata": {
    "collapsed": true
   },
   "outputs": [],
   "source": [
    "filename = 'MLP.data'\n",
    "pickle.dump(MLP_classifier, open(filename, 'wb'))"
   ]
  }
 ],
 "metadata": {
  "kernelspec": {
   "display_name": "Python 3",
   "language": "python",
   "name": "python3"
  },
  "language_info": {
   "codemirror_mode": {
    "name": "ipython",
    "version": 3
   },
   "file_extension": ".py",
   "mimetype": "text/x-python",
   "name": "python",
   "nbconvert_exporter": "python",
   "pygments_lexer": "ipython3",
   "version": "3.6.1"
  }
 },
 "nbformat": 4,
 "nbformat_minor": 2
}
